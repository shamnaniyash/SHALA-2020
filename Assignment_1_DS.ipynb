{
  "nbformat": 4,
  "nbformat_minor": 0,
  "metadata": {
    "colab": {
      "name": "Copy of Assignment_1_DS.ipynb",
      "provenance": [],
      "collapsed_sections": [],
      "include_colab_link": true
    },
    "kernelspec": {
      "name": "python3",
      "display_name": "Python 3"
    }
  },
  "cells": [
    {
      "cell_type": "markdown",
      "metadata": {
        "id": "view-in-github",
        "colab_type": "text"
      },
      "source": [
        "<a href=\"https://colab.research.google.com/github/shamnaniyash/SHALA-2020/blob/master/Assignment_1_DS.ipynb\" target=\"_parent\"><img src=\"https://colab.research.google.com/assets/colab-badge.svg\" alt=\"Open In Colab\"/></a>"
      ]
    },
    {
      "cell_type": "markdown",
      "metadata": {
        "id": "hmr2U-GChnlR",
        "colab_type": "text"
      },
      "source": [
        "\n",
        "# **Assignment - 1 : Getting Started**\n",
        "\n",
        "---\n",
        "\n",
        "This assignment will get you familiarized with python libraries required for ***data science*** and ***machine learning***. You will have to complete the code snippets and run them. "
      ]
    },
    {
      "cell_type": "markdown",
      "metadata": {
        "id": "211pD45xEO0u",
        "colab_type": "text"
      },
      "source": [
        "## **Note :**   Use only the methods and attributes of the ```numpy``` library. **Do not** hard-code them. Avoid loops as much as possible."
      ]
    },
    {
      "cell_type": "markdown",
      "metadata": {
        "id": "O7v9C4mun3SQ",
        "colab_type": "text"
      },
      "source": [
        "---\n",
        "## Part - 1\n",
        " In this part, you will work with the library ```numpy```. \n",
        "\n",
        "\n"
      ]
    },
    {
      "cell_type": "markdown",
      "metadata": {
        "id": "846yDaXQwiMD",
        "colab_type": "text"
      },
      "source": [
        "Import ```numpy``` with an alias name ```np```. Initialize two arrays $a$, $b$ of size $3 \\times 5$ with random values and print them. "
      ]
    },
    {
      "cell_type": "code",
      "metadata": {
        "id": "_MyeCO3_o3oq",
        "colab_type": "code",
        "outputId": "1f64bc1b-5913-4f79-b564-99086a9ea3d4",
        "colab": {
          "base_uri": "https://localhost:8080/",
          "height": 118
        }
      },
      "source": [
        "import numpy as np\n",
        "a = np.random.random((3,5))\n",
        "b = np.random.random((3,5))\n",
        "print(a)\n",
        "print(b)"
      ],
      "execution_count": 2,
      "outputs": [
        {
          "output_type": "stream",
          "text": [
            "[[0.31046399 0.74883143 0.49758172 0.66710542 0.04170522]\n",
            " [0.9683667  0.02855716 0.48520292 0.98627416 0.14529101]\n",
            " [0.6028204  0.49412018 0.15738812 0.90632858 0.00435095]]\n",
            "[[0.76856416 0.97528364 0.9222042  0.66879443 0.13369177]\n",
            " [0.7587148  0.68587542 0.83352744 0.08614982 0.04661874]\n",
            " [0.66396375 0.75144939 0.09564337 0.97012645 0.34233284]]\n"
          ],
          "name": "stdout"
        }
      ]
    },
    {
      "cell_type": "markdown",
      "metadata": {
        "id": "p7jtpYT4wiO6",
        "colab_type": "text"
      },
      "source": [
        "Initialize and print two arrays $c$ and $d$ having the following properties:\n",
        "*   $c$ is a row vector with all positive integer values less than 100\n",
        "* $d$ is a square matrix of size 3 having all entries as 0.0"
      ]
    },
    {
      "cell_type": "code",
      "metadata": {
        "id": "a2lJdRf8x9f2",
        "colab_type": "code",
        "colab": {
          "base_uri": "https://localhost:8080/",
          "height": 151
        },
        "outputId": "0db31328-dc14-4ddf-b5a0-470dd1ce69b3"
      },
      "source": [
        "c = np.arange(100)\n",
        "d = np.zeros((3,3))\n",
        "print(c)\n",
        "print(d)"
      ],
      "execution_count": 5,
      "outputs": [
        {
          "output_type": "stream",
          "text": [
            "[ 0  1  2  3  4  5  6  7  8  9 10 11 12 13 14 15 16 17 18 19 20 21 22 23\n",
            " 24 25 26 27 28 29 30 31 32 33 34 35 36 37 38 39 40 41 42 43 44 45 46 47\n",
            " 48 49 50 51 52 53 54 55 56 57 58 59 60 61 62 63 64 65 66 67 68 69 70 71\n",
            " 72 73 74 75 76 77 78 79 80 81 82 83 84 85 86 87 88 89 90 91 92 93 94 95\n",
            " 96 97 98 99]\n",
            "[[0. 0. 0.]\n",
            " [0. 0. 0.]\n",
            " [0. 0. 0.]]\n"
          ],
          "name": "stdout"
        }
      ]
    },
    {
      "cell_type": "markdown",
      "metadata": {
        "id": "qqgtSsa88Zmh",
        "colab_type": "text"
      },
      "source": [
        "We have $e$ as following : ```e = [[1,2,3],[4,5,6],[7,8,9]]```. Change $e$ as a numpy array and print it."
      ]
    },
    {
      "cell_type": "code",
      "metadata": {
        "id": "Krhm4bVE7RET",
        "colab_type": "code",
        "colab": {
          "base_uri": "https://localhost:8080/",
          "height": 67
        },
        "outputId": "ea146921-3289-43e0-d57b-794db7608102"
      },
      "source": [
        "e = [[1,2,3],[4,5,6],[7,8,9]]\n",
        "e = np.array(e)\n",
        "print(e)\n"
      ],
      "execution_count": 6,
      "outputs": [
        {
          "output_type": "stream",
          "text": [
            "[[1 2 3]\n",
            " [4 5 6]\n",
            " [7 8 9]]\n"
          ],
          "name": "stdout"
        }
      ]
    },
    {
      "cell_type": "markdown",
      "metadata": {
        "id": "1qTikI0foam9",
        "colab_type": "text"
      },
      "source": [
        "$f$ and $g$ are two square matrices of size 5 such that all the entries of $f$ are 1 and $g$ is an identity matrix. Initialize them and print them"
      ]
    },
    {
      "cell_type": "code",
      "metadata": {
        "id": "DvaLckI49aBV",
        "colab_type": "code",
        "colab": {
          "base_uri": "https://localhost:8080/",
          "height": 185
        },
        "outputId": "0ccef1dc-1cef-4135-f666-7cf8fd02ec37"
      },
      "source": [
        "f = np.ones((5,5))\n",
        "g = np.eye(5)\n",
        "print(f)\n",
        "print(g)"
      ],
      "execution_count": 7,
      "outputs": [
        {
          "output_type": "stream",
          "text": [
            "[[1. 1. 1. 1. 1.]\n",
            " [1. 1. 1. 1. 1.]\n",
            " [1. 1. 1. 1. 1.]\n",
            " [1. 1. 1. 1. 1.]\n",
            " [1. 1. 1. 1. 1.]]\n",
            "[[1. 0. 0. 0. 0.]\n",
            " [0. 1. 0. 0. 0.]\n",
            " [0. 0. 1. 0. 0.]\n",
            " [0. 0. 0. 1. 0.]\n",
            " [0. 0. 0. 0. 1.]]\n"
          ],
          "name": "stdout"
        }
      ]
    },
    {
      "cell_type": "markdown",
      "metadata": {
        "id": "gcBZAZibAKcg",
        "colab_type": "text"
      },
      "source": [
        "Reshape $d$ into a $10 \\times 10$ matrix and name it $h$. Now flatten $h$, call it $d^\\prime$ and print **YES** when the shapes of $d$ and $d^\\prime$ are same. Otherwise print **NO**."
      ]
    },
    {
      "cell_type": "code",
      "metadata": {
        "id": "I71vtO9bA9Pi",
        "colab_type": "code",
        "colab": {
          "base_uri": "https://localhost:8080/",
          "height": 34
        },
        "outputId": "0513cd19-a533-44fa-f895-ffc1dd45ff2a"
      },
      "source": [
        "h = c.reshape((10,10))\n",
        "c_ = h.flatten()\n",
        "if c.shape == c_.shape:\n",
        "  print('YES')\n",
        "else:\n",
        "  print('NO')"
      ],
      "execution_count": 8,
      "outputs": [
        {
          "output_type": "stream",
          "text": [
            "YES\n"
          ],
          "name": "stdout"
        }
      ]
    },
    {
      "cell_type": "markdown",
      "metadata": {
        "id": "8FrecDPiA-Bv",
        "colab_type": "text"
      },
      "source": [
        "Let $A$ denote a randomly initialized three dimensional matrix of shape (2,10,5). Transpose $A$, call it $A^\\prime$, such that its shape is (5,2,10) and print it."
      ]
    },
    {
      "cell_type": "code",
      "metadata": {
        "id": "VbOKqSm6Bkaq",
        "colab_type": "code",
        "colab": {
          "base_uri": "https://localhost:8080/",
          "height": 420
        },
        "outputId": "6362b40b-7f02-4d04-b664-ab8af63b5202"
      },
      "source": [
        "A = np.random.rand(2,10,5)\n",
        "A_ = A.transpose((2,0,1))\n",
        "print(A_)"
      ],
      "execution_count": 48,
      "outputs": [
        {
          "output_type": "stream",
          "text": [
            "[[[0.98268749 0.54317945 0.6909637  0.00212556 0.82396118 0.55275726\n",
            "   0.14559503 0.74081337 0.5508326  0.55343283]\n",
            "  [0.04161564 0.53492533 0.82029121 0.61932727 0.02223189 0.69790475\n",
            "   0.15246326 0.38182504 0.91353581 0.4906067 ]]\n",
            "\n",
            " [[0.08408068 0.55736739 0.08949499 0.20970644 0.48671119 0.62382509\n",
            "   0.53743437 0.03936145 0.93940348 0.41939294]\n",
            "  [0.12067507 0.46453698 0.57286071 0.20310766 0.66034705 0.29193119\n",
            "   0.9052649  0.97840515 0.7194905  0.28386418]]\n",
            "\n",
            " [[0.63121211 0.86855463 0.43192532 0.21663726 0.8914546  0.270392\n",
            "   0.99578631 0.74667109 0.3464017  0.98316179]\n",
            "  [0.19274697 0.00669422 0.19646296 0.32806574 0.16999002 0.29203199\n",
            "   0.01308281 0.43667574 0.48069179 0.53464051]]\n",
            "\n",
            " [[0.5769749  0.45201162 0.10213422 0.51624448 0.39506079 0.93759501\n",
            "   0.04905633 0.57342128 0.57446946 0.94560732]\n",
            "  [0.72616799 0.39247191 0.92046942 0.34495346 0.60330026 0.75552948\n",
            "   0.88648441 0.71588198 0.08422165 0.20965107]]\n",
            "\n",
            " [[0.65064218 0.53497558 0.13780989 0.57020824 0.74461145 0.76965472\n",
            "   0.30281984 0.73170568 0.05077998 0.13827941]\n",
            "  [0.54397795 0.99893844 0.42414725 0.39475187 0.61958035 0.3882242\n",
            "   0.29225678 0.41238277 0.36363387 0.49432958]]]\n"
          ],
          "name": "stdout"
        }
      ]
    },
    {
      "cell_type": "markdown",
      "metadata": {
        "id": "xR2zd-nkCani",
        "colab_type": "text"
      },
      "source": [
        "You have a matrix $X$ of size (10,5) filled with random values. Print the following :\n",
        "* Minimum value and index where it occured, for each column\n",
        "* Maximum value and the index where it occured, for each column\n",
        "* Minimum value and index where it occured, for each row\n",
        "* Maximum value and index where it occured, for each row\n",
        "* Minimum value and index where it occured, for the entire matrix\n",
        "* Maximum value and index where it occured, for the entire matrix"
      ]
    },
    {
      "cell_type": "code",
      "metadata": {
        "id": "FR2Wd4fWD_Og",
        "colab_type": "code",
        "colab": {
          "base_uri": "https://localhost:8080/",
          "height": 756
        },
        "outputId": "cfc9d0b2-8908-421c-96db-0e1abb82c292"
      },
      "source": [
        "np.random.seed(0)\n",
        "X = np.random.rand(10,5)\n",
        "print(X)\n",
        "m,n = X.shape\n",
        "print('Minimum value from the matrix is', np.min(X), 'at the index', np.argmin(X))\n",
        "print('Maximum value from the matrix is', np.max(X), 'at the index', np.argmax(X))\n",
        "\n",
        "print(\"-\"*20)\n",
        "\n",
        "for i in range(m):\n",
        "  print('Minimum Value in row',i,'is', np.min(X[i]), 'at the index', np.argmin(X[i]))\n",
        "  print('Maximum Value in row',i,'is', np.max(X[i]), 'at the index', np.argmax(X[i]))\n",
        "Xt = X.T\n",
        "\n",
        "print(\"-\"*20)\n",
        "\n",
        "for i in range(n):\n",
        "  print('Minimum Value in column',i,'is', np.min(X[i]), 'at the index', np.argmin(Xt[i]))\n",
        "  print('Maximum Value in column',i,'is', np.max(X[i]), 'at the index', np.argmax(Xt[i]))\n"
      ],
      "execution_count": 41,
      "outputs": [
        {
          "output_type": "stream",
          "text": [
            "[[0.5488135  0.71518937 0.60276338 0.54488318 0.4236548 ]\n",
            " [0.64589411 0.43758721 0.891773   0.96366276 0.38344152]\n",
            " [0.79172504 0.52889492 0.56804456 0.92559664 0.07103606]\n",
            " [0.0871293  0.0202184  0.83261985 0.77815675 0.87001215]\n",
            " [0.97861834 0.79915856 0.46147936 0.78052918 0.11827443]\n",
            " [0.63992102 0.14335329 0.94466892 0.52184832 0.41466194]\n",
            " [0.26455561 0.77423369 0.45615033 0.56843395 0.0187898 ]\n",
            " [0.6176355  0.61209572 0.616934   0.94374808 0.6818203 ]\n",
            " [0.3595079  0.43703195 0.6976312  0.06022547 0.66676672]\n",
            " [0.67063787 0.21038256 0.1289263  0.31542835 0.36371077]]\n",
            "Minimum value from the matrix is 0.018789800436355142 at the index 34\n",
            "Maximum value from the matrix is 0.978618342232764 at the index 20\n",
            "--------------------\n",
            "Minimum Value in row 0 is 0.4236547993389047 at the index 4\n",
            "Maximum Value in row 0 is 0.7151893663724195 at the index 1\n",
            "Minimum Value in row 1 is 0.3834415188257777 at the index 4\n",
            "Maximum Value in row 1 is 0.9636627605010293 at the index 3\n",
            "Minimum Value in row 2 is 0.07103605819788694 at the index 4\n",
            "Maximum Value in row 2 is 0.925596638292661 at the index 3\n",
            "Minimum Value in row 3 is 0.02021839744032572 at the index 1\n",
            "Maximum Value in row 3 is 0.8700121482468192 at the index 4\n",
            "Minimum Value in row 4 is 0.11827442586893322 at the index 4\n",
            "Maximum Value in row 4 is 0.978618342232764 at the index 0\n",
            "Minimum Value in row 5 is 0.1433532874090464 at the index 1\n",
            "Maximum Value in row 5 is 0.9446689170495839 at the index 2\n",
            "Minimum Value in row 6 is 0.018789800436355142 at the index 4\n",
            "Maximum Value in row 6 is 0.7742336894342167 at the index 1\n",
            "Minimum Value in row 7 is 0.6120957227224214 at the index 1\n",
            "Maximum Value in row 7 is 0.9437480785146242 at the index 3\n",
            "Minimum Value in row 8 is 0.06022547162926983 at the index 3\n",
            "Maximum Value in row 8 is 0.6976311959272649 at the index 2\n",
            "Minimum Value in row 9 is 0.1289262976548533 at the index 2\n",
            "Maximum Value in row 9 is 0.6706378696181594 at the index 0\n",
            "--------------------\n",
            "Minimum Value in column 0 is 0.4236547993389047 at the index 3\n",
            "Maximum Value in column 0 is 0.7151893663724195 at the index 4\n",
            "Minimum Value in column 1 is 0.3834415188257777 at the index 3\n",
            "Maximum Value in column 1 is 0.9636627605010293 at the index 4\n",
            "Minimum Value in column 2 is 0.07103605819788694 at the index 9\n",
            "Maximum Value in column 2 is 0.925596638292661 at the index 5\n",
            "Minimum Value in column 3 is 0.02021839744032572 at the index 8\n",
            "Maximum Value in column 3 is 0.8700121482468192 at the index 1\n",
            "Minimum Value in column 4 is 0.11827442586893322 at the index 6\n",
            "Maximum Value in column 4 is 0.978618342232764 at the index 3\n"
          ],
          "name": "stdout"
        }
      ]
    },
    {
      "cell_type": "markdown",
      "metadata": {
        "id": "YpjW2ypkEGtS",
        "colab_type": "text"
      },
      "source": [
        "Find and print the following for the matrix X: \n",
        "* Mean of each row and column\n",
        "* Standard deviation of each row and column\n",
        "* Mean of the entire matrix\n",
        "* Standard deviation of entire matrix"
      ]
    },
    {
      "cell_type": "code",
      "metadata": {
        "id": "gMdm2pw0GWjf",
        "colab_type": "code",
        "colab": {
          "base_uri": "https://localhost:8080/",
          "height": 588
        },
        "outputId": "dfabd906-3e25-4422-f413-b6fc10232fed"
      },
      "source": [
        "for i in range(n):\n",
        "  print('Mean of column',i,'is', np.mean(Xt[i]))\n",
        "  print('Standard Deviation of column',i,'is', np.std(Xt[i]))\n",
        "\n",
        "print(\"-\"*20)\n",
        "\n",
        "for i in range(m):\n",
        "  print('Mean of row',i,'is', np.mean(X[i]))\n",
        "  print('Standard Deviation of row',i,'is', np.std(X[i]))\n",
        "\n",
        "print(\"-\"*20)\n",
        "\n",
        "print('Mean value of the matrix is', np.mean(X))\n",
        "print('Standard Deviation value of the matrix is', np.std(X))"
      ],
      "execution_count": 42,
      "outputs": [
        {
          "output_type": "stream",
          "text": [
            "Mean of column 0 is 0.5604438197710924\n",
            "Standard Deviation of column 0 is 0.2468764675219045\n",
            "Mean of column 1 is 0.4678145673483932\n",
            "Standard Deviation of column 1 is 0.25752157750026733\n",
            "Mean of column 2 is 0.6200990885471533\n",
            "Standard Deviation of column 2 is 0.22948614976502582\n",
            "Mean of column 3 is 0.640251268071369\n",
            "Standard Deviation of column 3 is 0.2805414425999807\n",
            "Mean of column 4 is 0.40121684763969745\n",
            "Standard Deviation of column 4 is 0.2658490507057524\n",
            "--------------------\n",
            "Mean of row 0 is 0.567060845741438\n",
            "Standard Deviation of row 0 is 0.0944529911111338\n",
            "Mean of row 1 is 0.664471720887647\n",
            "Standard Deviation of row 1 is 0.23322985774451155\n",
            "Mean of row 2 is 0.5770594430840099\n",
            "Standard Deviation of row 2 is 0.2918973276947416\n",
            "Mean of row 3 is 0.5176272883772948\n",
            "Standard Deviation of row 3 is 0.38052992640356825\n",
            "Mean of row 4 is 0.6276119741715617\n",
            "Standard Deviation of row 4 is 0.3043163342747559\n",
            "Mean of row 5 is 0.5328906975053499\n",
            "Standard Deviation of row 5 is 0.26338419061851637\n",
            "Mean of row 6 is 0.4164326766120793\n",
            "Standard Deviation of row 6 is 0.258414373983949\n",
            "Mean of row 7 is 0.6944467188582326\n",
            "Standard Deviation of row 7 is 0.1272795873876835\n",
            "Mean of row 8 is 0.44423264747506597\n",
            "Standard Deviation of row 8 is 0.2316997538165233\n",
            "Mean of row 9 is 0.33781717004273204\n",
            "Standard Deviation of row 9 is 0.1853733163025283\n",
            "--------------------\n",
            "Mean value of the matrix is 0.5379651182755409\n",
            "Standard Deviation value of the matrix is 0.27226582292177587\n"
          ],
          "name": "stdout"
        }
      ]
    },
    {
      "cell_type": "markdown",
      "metadata": {
        "id": "7dw7W8HOGXKA",
        "colab_type": "text"
      },
      "source": [
        "Let $Y$ denote a square matrix of size 10 with random values. Print the following:\n",
        "* Determinant\n",
        "* Rank of the matrix\n",
        "* Diagonal Elements\n",
        "* Trace\n",
        "* Eigen values\n",
        "* Matrices obtained after Singular Value Decomposition\n",
        "* Inverse if exists, otherwise Pseudo-Inverse\n",
        "* Multiplication $Y$ with $X$\n",
        "* Element-wise multiplication of $Y$ and its inverse(or pseudo-inverse)"
      ]
    },
    {
      "cell_type": "code",
      "metadata": {
        "id": "Tswbn9hgL7yi",
        "colab_type": "code",
        "colab": {
          "base_uri": "https://localhost:8080/",
          "height": 1000
        },
        "outputId": "949f1b1b-099f-4f72-98a3-2565bfa3e060"
      },
      "source": [
        "np.random.seed(3)\n",
        "Y = np.random.rand(10,10)\n",
        "print(\"The Determinant of matrix Y is\", np.linalg.det(Y))\n",
        "print(\"The rank of matrix Y is\", np.linalg.matrix_rank(Y))\n",
        "print(\"The diagonal elements of matrix Y are\", np.diag(Y))\n",
        "print(\"The trace of matrix Y is\", np.trace(Y))\n",
        "\n",
        "eigen_val, eigen_vec = np.linalg.eig(Y)\n",
        "print(\"The Eigen values of matrix Y are\", eigen_val)\n",
        "\n",
        "u, s, vh = np.linalg.svd(Y)\n",
        "print(\"The matrices after SVD are:\")\n",
        "print(\"U = \\n\",u)\n",
        "print(\"S = \\n\",s)\n",
        "print(\"Vt = \\n\",vh)\n",
        "print(\"The inverse of matrix Y is\", np.linalg.pinv(Y))\n",
        "print(\"The Multiplication of matrix Y and matrix X gives:\\n\", np.matmul(Y,X))\n",
        "print(\"The Elementwise Multiplication of matrix Y and its inverse gives:\\n\", np.dot(Y,np.linalg.pinv(Y)))\n",
        "\n",
        "\n",
        "\n",
        "\n",
        "\n"
      ],
      "execution_count": 45,
      "outputs": [
        {
          "output_type": "stream",
          "text": [
            "The Determinant of matrix Y is -0.012807808169095483\n",
            "The rank of matrix Y is 10\n",
            "The diagonal elements of matrix Y are [0.5507979  0.45683322 0.44045372 0.84575087 0.4576864  0.36217621\n",
            " 0.06152893 0.19897603 0.92672568 0.19638058]\n",
            "The trace of matrix Y is 4.497309545724899\n",
            "The Eigen values of matrix Y are [ 4.797525  +0.j          0.72411408+0.52238181j  0.72411408-0.52238181j\n",
            " -0.48250062+0.55413671j -0.48250062-0.55413671j -0.6909002 +0.j\n",
            " -0.25905659+0.32357377j -0.25905659-0.32357377j  0.2127855 +0.08352477j\n",
            "  0.2127855 -0.08352477j]\n",
            "The matrices after SVD are:\n",
            "U = \n",
            " [[-0.31776408 -0.02455508 -0.60644878 -0.17883359 -0.12672161  0.14873878\n",
            "  -0.17823942 -0.52859453 -0.02295855 -0.38570883]\n",
            " [-0.26118514 -0.10864541 -0.24911354  0.26547359  0.52168399 -0.25773901\n",
            "  -0.46995326  0.21752636 -0.39285046  0.16234491]\n",
            " [-0.31347907 -0.34483471 -0.25292297  0.1214296   0.1486964   0.33436315\n",
            "   0.54080229  0.48017168  0.05660692 -0.20966421]\n",
            " [-0.35815379  0.59490017  0.30255161  0.15850614 -0.11046295  0.3051409\n",
            "   0.07395537  0.03044889 -0.50561658 -0.18384856]\n",
            " [-0.28385845 -0.18085696 -0.1583078   0.10535533 -0.46807835 -0.08377643\n",
            "   0.24075452 -0.16170764 -0.24786952  0.69201648]\n",
            " [-0.28871348 -0.27577124  0.40271105  0.60433658  0.11931679 -0.04899205\n",
            "   0.02593316 -0.44875145  0.27874747 -0.12964796]\n",
            " [-0.27897316  0.00398904  0.20819753 -0.52536617  0.41116881 -0.41991923\n",
            "   0.42687225 -0.24145621 -0.12958507 -0.00984813]\n",
            " [-0.24788529  0.48136836 -0.15792433 -0.02303902  0.3246308   0.25755952\n",
            "  -0.01429533 -0.03088365  0.56052488  0.44079262]\n",
            " [-0.37505167 -0.36728578  0.39799373 -0.45186801 -0.10830044  0.34456765\n",
            "  -0.4447402   0.14147957  0.0716725   0.09192695]\n",
            " [-0.40049601  0.19846099 -0.02705464  0.02500837 -0.39745062 -0.57941613\n",
            "  -0.10288216  0.3673956   0.33321483 -0.22039139]]\n",
            "S = \n",
            " [4.89636645 1.42832104 1.17173389 0.94068764 0.76892251 0.62457278\n",
            " 0.52105948 0.28969576 0.24512275 0.09350223]\n",
            "Vt = \n",
            " [[-0.28816735 -0.35560525 -0.33294235 -0.33250662 -0.36658188 -0.3625847\n",
            "  -0.26573249 -0.23278667 -0.30457183 -0.29270444]\n",
            " [ 0.53693497  0.11306854  0.39562078  0.25099719 -0.07369559 -0.37753546\n",
            "  -0.08584363  0.00333609 -0.2399022  -0.51623983]\n",
            " [-0.084609   -0.22589744 -0.00306935  0.1954239  -0.327784   -0.49318928\n",
            "   0.42323124  0.18588504  0.58200169  0.02301787]\n",
            " [ 0.01388163 -0.2631197   0.42190391 -0.53612946  0.01058633 -0.04415909\n",
            "   0.29385139  0.49501812 -0.32731018  0.15669071]\n",
            " [-0.27340804  0.28220631  0.28945859 -0.1626885   0.14790418 -0.35915036\n",
            "  -0.64971879  0.23854611  0.29589227  0.1337842 ]\n",
            " [ 0.10830593  0.27974551 -0.20571161  0.10308827  0.10096026 -0.5325142\n",
            "   0.15994871 -0.16150892 -0.3941055   0.59692177]\n",
            " [ 0.44882085  0.34972045 -0.01773924 -0.50737391 -0.52251393  0.11970007\n",
            "  -0.02807841 -0.20137782  0.25705553  0.15409283]\n",
            " [-0.35599817 -0.05022624  0.63427946  0.20935183 -0.34847081  0.11510691\n",
            "   0.03182222 -0.47748403 -0.1161671   0.21777064]\n",
            " [ 0.18417681 -0.32168889  0.15954963 -0.32397524  0.5548368  -0.1807982\n",
            "   0.08626619 -0.55063636  0.28439362 -0.01119242]\n",
            " [-0.41560913  0.59522266  0.02089304 -0.23979844  0.13515565 -0.0893732\n",
            "   0.44674689 -0.10709455 -0.02239562 -0.42098815]]\n",
            "The inverse of matrix Y is [[ 2.31470983 -1.92264991  0.7642126   0.78096977 -2.74248585  1.20175092\n",
            "   0.38693174 -1.37664514 -0.96484143  0.83123246]\n",
            " [-2.24504111  1.25605742 -0.91466223 -0.39587642  4.71823627 -1.32162185\n",
            "   0.52594984  2.39368168  0.33051878 -2.33540101]\n",
            " [-1.41290916  0.66149939  0.94968095 -0.18869248 -0.50069581 -0.55664939\n",
            "  -0.55275157  0.57384943 -0.04209635  1.11025544]\n",
            " [ 0.88051129  0.37055438  0.15632501  1.25248223 -1.81219563 -0.7249179\n",
            "  -0.19613524 -1.81766381  0.56943994  0.52226388]\n",
            " [ 0.39743656 -0.28842728 -1.09880632 -1.57965965  0.36480771  0.90235521\n",
            "  -0.47743451  2.09911148  0.53638288 -0.04562024]\n",
            " [ 0.36068175  0.22958502  0.33426258  0.10367281 -0.06700744 -0.37158555\n",
            "   0.22972702 -1.26286862 -0.45133033  0.75430018]\n",
            " [-2.01045364  0.19347423 -1.01393804 -0.74303568  3.56449935 -0.31892146\n",
            "  -0.67116163  2.01265699  0.72873355 -0.69454601]\n",
            " [ 1.18043988  0.86047396 -0.88991494  1.30425635 -0.14247318  0.69661973\n",
            "   0.5413572  -1.69774697 -0.60797727 -1.00698216]\n",
            " [-0.1679456  -0.63197036 -0.0540802  -0.73587818 -0.46423184  0.67805628\n",
            "   0.88551393  0.37662528 -0.03416891  0.42341327]\n",
            " [ 1.3938872  -0.74982353  1.96636643  1.00676681 -3.21953806  0.44078124\n",
            "  -0.40298654 -1.90114336 -0.04414834  0.55576763]]\n",
            "The Multiplication of matrix Y and matrix X gives:\n",
            " [[2.95726101 2.04939653 3.09073485 3.22311637 1.78554985]\n",
            " [2.61266989 1.75663954 2.48635951 2.79783984 1.50654432]\n",
            " [2.98361778 2.02894044 2.82637865 2.88685728 1.69799548]\n",
            " [2.98565892 2.85485651 3.58995669 4.0073463  2.2697569 ]\n",
            " [2.49815821 1.97791033 2.77809758 2.71690515 1.59098767]\n",
            " [2.72146909 2.39905911 2.58780909 2.78212857 1.71792628]\n",
            " [2.22935358 1.74438251 2.94718357 2.48955906 2.05838199]\n",
            " [2.30476788 1.92350098 2.41698824 2.81379687 1.38016019]\n",
            " [2.91925254 2.36604123 3.53647969 3.30424184 2.52990887]\n",
            " [3.39559098 2.84629279 4.05845051 4.01068273 2.35816262]]\n",
            "The Elementwise Multiplication of matrix Y and its inverse gives:\n",
            " [[ 1.00000000e+00  9.85715154e-16  2.29412704e-15 -3.84473001e-15\n",
            "   8.43560798e-16  1.88453652e-15  3.17169943e-16 -5.43891993e-15\n",
            "   2.16400940e-15 -1.37598624e-15]\n",
            " [-2.26617895e-16  1.00000000e+00  1.86152909e-15 -3.64622514e-15\n",
            "   1.82408092e-15  1.04956548e-15 -3.67165507e-17 -2.94758131e-15\n",
            "   2.44840551e-15 -1.41493814e-15]\n",
            " [ 1.08167816e-15  3.05377056e-16  1.00000000e+00 -3.71094196e-15\n",
            "   4.00589280e-16  2.08200353e-15 -2.78313099e-16 -5.38624160e-15\n",
            "   2.52019283e-15 -8.17703303e-16]\n",
            " [-9.24430272e-16  3.96295058e-16  2.34558227e-15  1.00000000e+00\n",
            "   3.38617602e-15  2.90616521e-15  1.10771875e-16 -4.07891735e-15\n",
            "   2.80844112e-15 -2.51873853e-15]\n",
            " [ 1.19403087e-15 -1.80308699e-16  3.30509947e-15 -2.91463369e-15\n",
            "   1.00000000e+00  1.92155945e-15 -1.52891821e-16 -4.84325072e-15\n",
            "   2.20394078e-15 -9.39212993e-16]\n",
            " [-4.06319903e-17  5.60016416e-16  2.44359474e-15 -3.30211121e-15\n",
            "   1.36817541e-15  1.00000000e+00  5.16952243e-16 -4.53382245e-15\n",
            "   2.24616068e-15 -1.47191556e-15]\n",
            " [ 1.64088949e-17 -1.08628685e-16  1.96759093e-15 -3.93006388e-15\n",
            "   1.79832201e-15  2.26674089e-15  1.00000000e+00 -3.08760626e-15\n",
            "   2.39233786e-15 -1.57424120e-15]\n",
            " [-2.53614386e-16  6.12853505e-16  1.65281190e-15 -3.44711678e-15\n",
            "   2.52567926e-15  1.42541149e-15 -4.37404121e-17  1.00000000e+00\n",
            "   1.98995356e-15 -1.56131782e-15]\n",
            " [-5.45098283e-16  6.70718152e-16  2.54229649e-15 -5.65418062e-15\n",
            "   2.89027178e-15  2.95961848e-15 -1.45649331e-16 -4.34759231e-15\n",
            "   1.00000000e+00 -1.53033889e-15]\n",
            " [ 1.74881065e-17  5.78154131e-16  2.95772650e-15 -5.66259938e-15\n",
            "   3.07866427e-15  2.50504111e-15  1.74659596e-16 -4.27038361e-15\n",
            "   3.23080107e-15  1.00000000e+00]]\n"
          ],
          "name": "stdout"
        }
      ]
    },
    {
      "cell_type": "markdown",
      "metadata": {
        "id": "Qne3RnfOL6-4",
        "colab_type": "text"
      },
      "source": [
        "## End of Part - 1\n",
        " --- --- ---"
      ]
    },
    {
      "cell_type": "markdown",
      "metadata": {
        "id": "LA-m4UYkMPTe",
        "colab_type": "text"
      },
      "source": [
        "## Part - 2\n",
        "---\n",
        "In this part, you will be working with the library ```pandas```. Import this library with an alias name ```pd```."
      ]
    },
    {
      "cell_type": "code",
      "metadata": {
        "id": "i8z7TpnZSIms",
        "colab_type": "code",
        "colab": {}
      },
      "source": [
        "# Initial imports\n",
        "import numpy as np\n",
        "import matplotlib.pyplot as plt\n",
        "import pandas as pd"
      ],
      "execution_count": 0,
      "outputs": []
    },
    {
      "cell_type": "markdown",
      "metadata": {
        "id": "2v-HkHnyuQ3X",
        "colab_type": "text"
      },
      "source": [
        "Download dataset from: http://biostat.mc.vanderbilt.edu/wiki/pub/Main/DataSets/titanic3.csv\n",
        "Read the data and display the first 5 rows"
      ]
    },
    {
      "cell_type": "code",
      "metadata": {
        "id": "LinX5ywNTUIm",
        "colab_type": "code",
        "colab": {
          "base_uri": "https://localhost:8080/",
          "height": 330
        },
        "outputId": "9c5bce84-3197-47ba-b75f-1ae2d494fba3"
      },
      "source": [
        "#Download dataset from: http://biostat.mc.vanderbilt.edu/wiki/pub/Main/DataSets/titanic3.csv\n",
        "\n",
        "file_url = \"http://biostat.mc.vanderbilt.edu/wiki/pub/Main/DataSets/titanic3.csv\"\n",
        "\n",
        "data = pd.read_csv('titanic3.csv')\n",
        "data.head()"
      ],
      "execution_count": 66,
      "outputs": [
        {
          "output_type": "execute_result",
          "data": {
            "text/html": [
              "<div>\n",
              "<style scoped>\n",
              "    .dataframe tbody tr th:only-of-type {\n",
              "        vertical-align: middle;\n",
              "    }\n",
              "\n",
              "    .dataframe tbody tr th {\n",
              "        vertical-align: top;\n",
              "    }\n",
              "\n",
              "    .dataframe thead th {\n",
              "        text-align: right;\n",
              "    }\n",
              "</style>\n",
              "<table border=\"1\" class=\"dataframe\">\n",
              "  <thead>\n",
              "    <tr style=\"text-align: right;\">\n",
              "      <th></th>\n",
              "      <th>pclass</th>\n",
              "      <th>survived</th>\n",
              "      <th>name</th>\n",
              "      <th>sex</th>\n",
              "      <th>age</th>\n",
              "      <th>sibsp</th>\n",
              "      <th>parch</th>\n",
              "      <th>ticket</th>\n",
              "      <th>fare</th>\n",
              "      <th>cabin</th>\n",
              "      <th>embarked</th>\n",
              "      <th>boat</th>\n",
              "      <th>body</th>\n",
              "      <th>home.dest</th>\n",
              "    </tr>\n",
              "  </thead>\n",
              "  <tbody>\n",
              "    <tr>\n",
              "      <th>0</th>\n",
              "      <td>1</td>\n",
              "      <td>1</td>\n",
              "      <td>Allen, Miss. Elisabeth Walton</td>\n",
              "      <td>female</td>\n",
              "      <td>29.00</td>\n",
              "      <td>0</td>\n",
              "      <td>0</td>\n",
              "      <td>24160</td>\n",
              "      <td>211.3375</td>\n",
              "      <td>B5</td>\n",
              "      <td>S</td>\n",
              "      <td>2</td>\n",
              "      <td>NaN</td>\n",
              "      <td>St Louis, MO</td>\n",
              "    </tr>\n",
              "    <tr>\n",
              "      <th>1</th>\n",
              "      <td>1</td>\n",
              "      <td>1</td>\n",
              "      <td>Allison, Master. Hudson Trevor</td>\n",
              "      <td>male</td>\n",
              "      <td>0.92</td>\n",
              "      <td>1</td>\n",
              "      <td>2</td>\n",
              "      <td>113781</td>\n",
              "      <td>151.5500</td>\n",
              "      <td>C22 C26</td>\n",
              "      <td>S</td>\n",
              "      <td>11</td>\n",
              "      <td>NaN</td>\n",
              "      <td>Montreal, PQ / Chesterville, ON</td>\n",
              "    </tr>\n",
              "    <tr>\n",
              "      <th>2</th>\n",
              "      <td>1</td>\n",
              "      <td>0</td>\n",
              "      <td>Allison, Miss. Helen Loraine</td>\n",
              "      <td>female</td>\n",
              "      <td>2.00</td>\n",
              "      <td>1</td>\n",
              "      <td>2</td>\n",
              "      <td>113781</td>\n",
              "      <td>151.5500</td>\n",
              "      <td>C22 C26</td>\n",
              "      <td>S</td>\n",
              "      <td>NaN</td>\n",
              "      <td>NaN</td>\n",
              "      <td>Montreal, PQ / Chesterville, ON</td>\n",
              "    </tr>\n",
              "    <tr>\n",
              "      <th>3</th>\n",
              "      <td>1</td>\n",
              "      <td>0</td>\n",
              "      <td>Allison, Mr. Hudson Joshua Creighton</td>\n",
              "      <td>male</td>\n",
              "      <td>30.00</td>\n",
              "      <td>1</td>\n",
              "      <td>2</td>\n",
              "      <td>113781</td>\n",
              "      <td>151.5500</td>\n",
              "      <td>C22 C26</td>\n",
              "      <td>S</td>\n",
              "      <td>NaN</td>\n",
              "      <td>135.0</td>\n",
              "      <td>Montreal, PQ / Chesterville, ON</td>\n",
              "    </tr>\n",
              "    <tr>\n",
              "      <th>4</th>\n",
              "      <td>1</td>\n",
              "      <td>0</td>\n",
              "      <td>Allison, Mrs. Hudson J C (Bessie Waldo Daniels)</td>\n",
              "      <td>female</td>\n",
              "      <td>25.00</td>\n",
              "      <td>1</td>\n",
              "      <td>2</td>\n",
              "      <td>113781</td>\n",
              "      <td>151.5500</td>\n",
              "      <td>C22 C26</td>\n",
              "      <td>S</td>\n",
              "      <td>NaN</td>\n",
              "      <td>NaN</td>\n",
              "      <td>Montreal, PQ / Chesterville, ON</td>\n",
              "    </tr>\n",
              "  </tbody>\n",
              "</table>\n",
              "</div>"
            ],
            "text/plain": [
              "   pclass  survived  ...   body                        home.dest\n",
              "0       1         1  ...    NaN                     St Louis, MO\n",
              "1       1         1  ...    NaN  Montreal, PQ / Chesterville, ON\n",
              "2       1         0  ...    NaN  Montreal, PQ / Chesterville, ON\n",
              "3       1         0  ...  135.0  Montreal, PQ / Chesterville, ON\n",
              "4       1         0  ...    NaN  Montreal, PQ / Chesterville, ON\n",
              "\n",
              "[5 rows x 14 columns]"
            ]
          },
          "metadata": {
            "tags": []
          },
          "execution_count": 66
        }
      ]
    },
    {
      "cell_type": "markdown",
      "metadata": {
        "id": "vTk1-mF5WYFN",
        "colab_type": "text"
      },
      "source": [
        "### Preprocessing of the Dataset"
      ]
    },
    {
      "cell_type": "markdown",
      "metadata": {
        "id": "kx9UrI9WWt17",
        "colab_type": "text"
      },
      "source": [
        "\n",
        "\n",
        "---\n",
        "\n",
        "\n",
        "**1. Convert the categorical values of columns 'sex', 'embarked', 'pclass' into dummy values and add them into titanic_data_new DataFrame**\n",
        "\n",
        "\n",
        "\n",
        "\n",
        "---\n",
        "\n"
      ]
    },
    {
      "cell_type": "code",
      "metadata": {
        "id": "AwDh9njbZ0QU",
        "colab_type": "code",
        "colab": {
          "base_uri": "https://localhost:8080/",
          "height": 195
        },
        "outputId": "c226d0d4-2bcc-46af-93e1-43af0e7e5283"
      },
      "source": [
        "my_list= ['sex', 'embarked', 'pclass']\n",
        "dummies = pd.get_dummies(data[my_list])\n",
        "titanic_data_new = pd.DataFrame(dummies)\n",
        "titanic_data_new.head()"
      ],
      "execution_count": 68,
      "outputs": [
        {
          "output_type": "execute_result",
          "data": {
            "text/html": [
              "<div>\n",
              "<style scoped>\n",
              "    .dataframe tbody tr th:only-of-type {\n",
              "        vertical-align: middle;\n",
              "    }\n",
              "\n",
              "    .dataframe tbody tr th {\n",
              "        vertical-align: top;\n",
              "    }\n",
              "\n",
              "    .dataframe thead th {\n",
              "        text-align: right;\n",
              "    }\n",
              "</style>\n",
              "<table border=\"1\" class=\"dataframe\">\n",
              "  <thead>\n",
              "    <tr style=\"text-align: right;\">\n",
              "      <th></th>\n",
              "      <th>pclass</th>\n",
              "      <th>sex_female</th>\n",
              "      <th>sex_male</th>\n",
              "      <th>embarked_C</th>\n",
              "      <th>embarked_Q</th>\n",
              "      <th>embarked_S</th>\n",
              "    </tr>\n",
              "  </thead>\n",
              "  <tbody>\n",
              "    <tr>\n",
              "      <th>0</th>\n",
              "      <td>1</td>\n",
              "      <td>1</td>\n",
              "      <td>0</td>\n",
              "      <td>0</td>\n",
              "      <td>0</td>\n",
              "      <td>1</td>\n",
              "    </tr>\n",
              "    <tr>\n",
              "      <th>1</th>\n",
              "      <td>1</td>\n",
              "      <td>0</td>\n",
              "      <td>1</td>\n",
              "      <td>0</td>\n",
              "      <td>0</td>\n",
              "      <td>1</td>\n",
              "    </tr>\n",
              "    <tr>\n",
              "      <th>2</th>\n",
              "      <td>1</td>\n",
              "      <td>1</td>\n",
              "      <td>0</td>\n",
              "      <td>0</td>\n",
              "      <td>0</td>\n",
              "      <td>1</td>\n",
              "    </tr>\n",
              "    <tr>\n",
              "      <th>3</th>\n",
              "      <td>1</td>\n",
              "      <td>0</td>\n",
              "      <td>1</td>\n",
              "      <td>0</td>\n",
              "      <td>0</td>\n",
              "      <td>1</td>\n",
              "    </tr>\n",
              "    <tr>\n",
              "      <th>4</th>\n",
              "      <td>1</td>\n",
              "      <td>1</td>\n",
              "      <td>0</td>\n",
              "      <td>0</td>\n",
              "      <td>0</td>\n",
              "      <td>1</td>\n",
              "    </tr>\n",
              "  </tbody>\n",
              "</table>\n",
              "</div>"
            ],
            "text/plain": [
              "   pclass  sex_female  sex_male  embarked_C  embarked_Q  embarked_S\n",
              "0       1           1         0           0           0           1\n",
              "1       1           0         1           0           0           1\n",
              "2       1           1         0           0           0           1\n",
              "3       1           0         1           0           0           1\n",
              "4       1           1         0           0           0           1"
            ]
          },
          "metadata": {
            "tags": []
          },
          "execution_count": 68
        }
      ]
    },
    {
      "cell_type": "markdown",
      "metadata": {
        "id": "Z9bxOfzDbY-n",
        "colab_type": "text"
      },
      "source": [
        "\n",
        "\n",
        "---\n",
        "\n",
        "\n",
        "**2. Fill the missing data in Age and Fare columns with the mean value of the respected column then add these columns to titanic_data_new**\n",
        "\n",
        "\n",
        "---\n",
        "\n"
      ]
    },
    {
      "cell_type": "code",
      "metadata": {
        "id": "DNx7Pr0ehhAs",
        "colab_type": "code",
        "colab": {}
      },
      "source": [
        "data['age'].fillna(np.mean(data.age), inplace = True)\n",
        "titanic_data_new['age'] = data.age\n",
        "data['fare'].fillna(np.mean(data.fare), inplace = True)\n",
        "titanic_data_new['fare'] = data.fare"
      ],
      "execution_count": 0,
      "outputs": []
    },
    {
      "cell_type": "markdown",
      "metadata": {
        "id": "SlRzKfhxkd1M",
        "colab_type": "text"
      },
      "source": [
        "###Normalization\n",
        "\n",
        "\n",
        "---\n",
        "\n",
        "\n",
        "\n",
        "1. Normalize the columns which have numerical data\n",
        "\n",
        "\n",
        "\n",
        "---\n",
        "\n"
      ]
    },
    {
      "cell_type": "code",
      "metadata": {
        "id": "Y3hpu92TlM38",
        "colab_type": "code",
        "colab": {}
      },
      "source": [
        "data.age = data.age/np.max(data.age)\n",
        "data.fare = data.fare/max(data.fare)"
      ],
      "execution_count": 0,
      "outputs": []
    },
    {
      "cell_type": "markdown",
      "metadata": {
        "id": "wB9-5x83mFAO",
        "colab_type": "text"
      },
      "source": [
        "\n",
        "\n",
        "---\n",
        "2. Drop the original age, fare columns\n",
        "3. Append the normalized columns to the titanic_data_new DataFrame.\n",
        "\n",
        "\n",
        "\n",
        "---\n",
        "\n"
      ]
    },
    {
      "cell_type": "code",
      "metadata": {
        "id": "Kb00kM0onQJy",
        "colab_type": "code",
        "colab": {}
      },
      "source": [
        "titanic_data_new.age = data.age\n",
        "titanic_data_new.fare = data.fare"
      ],
      "execution_count": 0,
      "outputs": []
    },
    {
      "cell_type": "markdown",
      "metadata": {
        "id": "uLxN3PozntKe",
        "colab_type": "text"
      },
      "source": [
        "###Plotting\n",
        "1. plot the age against the ID(continuous)\n",
        "2. plot the fare against the ID(scatter)"
      ]
    },
    {
      "cell_type": "code",
      "metadata": {
        "id": "LdSfNEKYn_RO",
        "colab_type": "code",
        "colab": {
          "base_uri": "https://localhost:8080/",
          "height": 761
        },
        "outputId": "32f4d51a-4561-46db-e9f5-25e2c3659a0f"
      },
      "source": [
        "plt.figure()\n",
        "plt.plot(data.age[0:100]) #first 100 samples\n",
        "plt.show()\n",
        "\n",
        "plt.figure()\n",
        "plt.plot(data.age) #all the samples\n",
        "plt.show()\n",
        "\n",
        "plt.figure()\n",
        "plt.scatter(range(100), data.fare[0:100]) #first 100 samples\n",
        "plt.show()"
      ],
      "execution_count": 85,
      "outputs": [
        {
          "output_type": "display_data",
          "data": {
            "image/png": "[encoded data removed]",
            "text/plain": [
              "<Figure size 432x288 with 1 Axes>"
            ]
          },
          "metadata": {
            "tags": [],
            "needs_background": "light"
          }
        },
        {
          "output_type": "display_data",
          "data": {
            "image/png": "[encoded data removed]",
            "text/plain": [
              "<Figure size 432x288 with 1 Axes>"
            ]
          },
          "metadata": {
            "tags": [],
            "needs_background": "light"
          }
        },
        {
          "output_type": "display_data",
          "data": {
            "image/png": "[encoded data removed]",
            "text/plain": [
              "<Figure size 432x288 with 1 Axes>"
            ]
          },
          "metadata": {
            "tags": [],
            "needs_background": "light"
          }
        }
      ]
    },
    {
      "cell_type": "markdown",
      "metadata": {
        "id": "LQr7y6eevTvy",
        "colab_type": "text"
      },
      "source": [
        "## End of Part - 2\n",
        "---"
      ]
    },
    {
      "cell_type": "markdown",
      "metadata": {
        "id": "TWhZcKvfvW2B",
        "colab_type": "text"
      },
      "source": [
        "## Part - 3\n",
        "---"
      ]
    },
    {
      "cell_type": "markdown",
      "metadata": {
        "id": "8bY4H9DszQ2S",
        "colab_type": "text"
      },
      "source": [
        "In this part, you will work with the library ```matplotlib```. Import the ```pyplot``` from ```matplotlib``` with an alias name ```plt```."
      ]
    },
    {
      "cell_type": "code",
      "metadata": {
        "id": "hPN6qctRzknT",
        "colab_type": "code",
        "colab": {}
      },
      "source": [
        "import matplotlib.pyplot as plt"
      ],
      "execution_count": 0,
      "outputs": []
    },
    {
      "cell_type": "markdown",
      "metadata": {
        "id": "fQ6KX_Aezlub",
        "colab_type": "text"
      },
      "source": [
        "Plot the sine function with domain in $[-3\\pi,3\\pi]$. Label the axes appropriately. Add title $\\sin(x)$. Use latex formatting while adding the title. Set the plot size to (10,10)"
      ]
    },
    {
      "cell_type": "code",
      "metadata": {
        "id": "0tA3J5mA1cQ0",
        "colab_type": "code",
        "colab": {
          "base_uri": "https://localhost:8080/",
          "height": 592
        },
        "outputId": "f703a494-86fe-4bb2-bc4c-38cc28e2b8e2"
      },
      "source": [
        "plt.figure(figsize=(10,10))\n",
        "x = np.arange(-3*(np.pi), 3*(np.pi), 0.01)\n",
        "plt.plot(x,np.sin(x))\n",
        "plt.title('sin(x)')\n",
        "plt.show()"
      ],
      "execution_count": 89,
      "outputs": [
        {
          "output_type": "display_data",
          "data": {
            "image/png": "[encoded data removed]",
            "text/plain": [
              "<Figure size 720x720 with 1 Axes>"
            ]
          },
          "metadata": {
            "tags": [],
            "needs_background": "light"
          }
        }
      ]
    },
    {
      "cell_type": "markdown",
      "metadata": {
        "id": "6KV7RqMm1d8P",
        "colab_type": "text"
      },
      "source": [
        "Plot $\\sin(x)$ and its spectrum, $\\cos(x)$ and its spectrum in a single plot, in the domain $[-2\\pi,2\\pi]$. Label the plot appropriately."
      ]
    },
    {
      "cell_type": "code",
      "metadata": {
        "id": "-OJuY0HO12Oo",
        "colab_type": "code",
        "colab": {
          "base_uri": "https://localhost:8080/",
          "height": 298
        },
        "outputId": "09e46f87-f7df-46e2-a4af-4474ac89b89c"
      },
      "source": [
        "fig, ax = plt.subplots(nrows = 2, ncols=2)\n",
        "x = np.arange(-2*(np.pi), 2*(np.pi), 0.01)\n",
        "sinx = np.sin(x)\n",
        "cosx = np.cos(x)\n",
        "freq = np.fft.fftfreq(x.shape[-1])\n",
        "sinx_fft = np.fft.fft(sinx)\n",
        "cosx_fft = np.fft.fft(cosx)\n",
        "ax[0,0].plot(x,sinx)\n",
        "ax[0,0].set_title('sin(x)')\n",
        "ax[0,1].plot(freq,sinx_fft.real)\n",
        "ax[0,1].set_title('Spectrum of sin(x)')\n",
        "ax[1,0].plot(x,cosx)\n",
        "ax[1,0].set_title('cos(x)')\n",
        "ax[1,1].plot(freq,cosx_fft.real)\n",
        "ax[1,1].set_title('Spectrum of cos(x)')"
      ],
      "execution_count": 93,
      "outputs": [
        {
          "output_type": "execute_result",
          "data": {
            "text/plain": [
              "Text(0.5, 1.0, 'Spectrum of cos(x)')"
            ]
          },
          "metadata": {
            "tags": []
          },
          "execution_count": 93
        },
        {
          "output_type": "display_data",
          "data": {
            "image/png": "[encoded data removed]",
            "text/plain": [
              "<Figure size 432x288 with 4 Axes>"
            ]
          },
          "metadata": {
            "tags": [],
            "needs_background": "light"
          }
        }
      ]
    },
    {
      "cell_type": "markdown",
      "metadata": {
        "id": "1S6ZRm6B18ZF",
        "colab_type": "text"
      },
      "source": [
        "## End of Part - 3\n",
        "---"
      ]
    }
  ]
}